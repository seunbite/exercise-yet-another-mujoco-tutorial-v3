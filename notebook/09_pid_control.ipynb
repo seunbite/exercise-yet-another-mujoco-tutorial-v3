{
 "cells": [
  {
   "cell_type": "markdown",
   "id": "e5bcee86-2fdc-4e1d-91c5-c5d3b302cc21",
   "metadata": {},
   "source": [
    "### PID control of `Snapbot`"
   ]
  },
  {
   "cell_type": "code",
   "execution_count": 1,
   "id": "cb71086f-8a02-467f-8b63-30a82e578ce0",
   "metadata": {},
   "outputs": [
    {
     "name": "stdout",
     "output_type": "stream",
     "text": [
      "Ready.\n"
     ]
    }
   ],
   "source": [
    "import sys,mujoco\n",
    "import numpy as np\n",
    "import matplotlib.pyplot as plt\n",
    "sys.path.append('../package/helper/')\n",
    "sys.path.append('../package/mujoco_usage/')\n",
    "from mujoco_parser import *\n",
    "from slider import *\n",
    "from utility import *\n",
    "np.set_printoptions(precision=2,suppress=True,linewidth=100)\n",
    "plt.rc('xtick',labelsize=6); plt.rc('ytick',labelsize=6)\n",
    "%config InlineBackend.figure_format = 'retina'\n",
    "%matplotlib inline\n",
    "print (\"Ready.\")"
   ]
  },
  {
   "cell_type": "markdown",
   "id": "c8bce528-7b6e-4634-bc7d-5af8b4f9a442",
   "metadata": {},
   "source": [
    "#### Parse `Snapbot`"
   ]
  },
  {
   "cell_type": "code",
   "execution_count": 2,
   "id": "200ffba2-2e71-4f0d-99a7-df6b7666ecea",
   "metadata": {
    "scrolled": true
   },
   "outputs": [
    {
     "name": "stdout",
     "output_type": "stream",
     "text": [
      "name:[Snapbot] dt:[0.002] HZ:[500]\n",
      "n_qpos:[25] n_qvel:[24] n_qacc:[24] n_ctrl:[8]\n",
      "\n",
      "n_body:[24]\n",
      " [0/24] [world] mass:[0.00]kg\n",
      " [1/24] [torso] mass:[0.24]kg\n",
      " [2/24] [Camera_module_1] mass:[0.06]kg\n",
      " [3/24] [Camera_module_2] mass:[0.06]kg\n",
      " [4/24] [Leg_module_1_1] mass:[0.06]kg\n",
      " [5/24] [Leg_module_1_2] mass:[0.08]kg\n",
      " [6/24] [Leg_module_1_3] mass:[0.02]kg\n",
      " [7/24] [Leg_module_1_4] mass:[0.01]kg\n",
      " [8/24] [Leg_module_1_4bar] mass:[0.01]kg\n",
      " [9/24] [Leg_module_2_1] mass:[0.06]kg\n",
      " [10/24] [Leg_module_2_2] mass:[0.08]kg\n",
      " [11/24] [Leg_module_2_3] mass:[0.02]kg\n",
      " [12/24] [Leg_module_2_4] mass:[0.01]kg\n",
      " [13/24] [Leg_module_2_4bar] mass:[0.01]kg\n",
      " [14/24] [Leg_module_4_1] mass:[0.06]kg\n",
      " [15/24] [Leg_module_4_2] mass:[0.08]kg\n",
      " [16/24] [Leg_module_4_3] mass:[0.02]kg\n",
      " [17/24] [Leg_module_4_4] mass:[0.01]kg\n",
      " [18/24] [Leg_module_4_4bar] mass:[0.01]kg\n",
      " [19/24] [Leg_module_5_1] mass:[0.06]kg\n",
      " [20/24] [Leg_module_5_2] mass:[0.08]kg\n",
      " [21/24] [Leg_module_5_3] mass:[0.02]kg\n",
      " [22/24] [Leg_module_5_4] mass:[0.01]kg\n",
      " [23/24] [Leg_module_5_4bar] mass:[0.01]kg\n",
      "body_total_mass:[1.10]kg\n",
      "\n",
      "n_geom:[24]\n",
      "geom_names:['floor', 'body', 'camera_module_1', 'camera_module_2', 'leg_module_1_1', 'leg_module_1_2', 'leg_module_1_3', 'leg_module_1_4', 'leg_module_1_4bar', 'leg_module_2_1', 'leg_module_2_2', 'leg_module_2_3', 'leg_module_2_4', 'leg_module_2_4bar', 'leg_module_4_1', 'leg_module_4_2', 'leg_module_4_3', 'leg_module_4_4', 'leg_module_4_4bar', 'leg_module_5_1', 'leg_module_5_2', 'leg_module_5_3', 'leg_module_5_4', 'leg_module_5_4bar']\n",
      "\n",
      "n_joint:[19]\n",
      " [0/19] [free] axis:[0. 0. 1.]\n",
      " [1/19] [camera_1] axis:[0. 0. 1.]\n",
      " [2/19] [camera_2] axis:[ 0.42 -0.91  0.  ]\n",
      " [3/19] [leg_1_2] axis:[0. 1. 0.]\n",
      " [4/19] [leg_1_3] axis:[1. 0. 0.]\n",
      " [5/19] [leg_1_4] axis:[1. 0. 0.]\n",
      " [6/19] [leg_1_4bar] axis:[1. 0. 0.]\n",
      " [7/19] [leg_2_2] axis:[0. 1. 0.]\n",
      " [8/19] [leg_2_3] axis:[1. 0. 0.]\n",
      " [9/19] [leg_2_4] axis:[1. 0. 0.]\n",
      " [10/19] [leg_2_4bar] axis:[1. 0. 0.]\n",
      " [11/19] [leg_4_2] axis:[0. 1. 0.]\n",
      " [12/19] [leg_4_3] axis:[1. 0. 0.]\n",
      " [13/19] [leg_4_4] axis:[1. 0. 0.]\n",
      " [14/19] [leg_4_4bar] axis:[1. 0. 0.]\n",
      " [15/19] [leg_5_2] axis:[0. 1. 0.]\n",
      " [16/19] [leg_5_3] axis:[1. 0. 0.]\n",
      " [17/19] [leg_5_4] axis:[1. 0. 0.]\n",
      " [18/19] [leg_5_4bar] axis:[1. 0. 0.]\n",
      "\n",
      "n_dof:[24] (=number of rows of Jacobian)\n",
      " [0/24] [None] attached joint:[free] body:[torso]\n",
      " [1/24] [None] attached joint:[free] body:[torso]\n",
      " [2/24] [None] attached joint:[free] body:[torso]\n",
      " [3/24] [None] attached joint:[free] body:[torso]\n",
      " [4/24] [None] attached joint:[free] body:[torso]\n",
      " [5/24] [None] attached joint:[free] body:[torso]\n",
      " [6/24] [None] attached joint:[camera_1] body:[Camera_module_1]\n",
      " [7/24] [None] attached joint:[camera_2] body:[Camera_module_2]\n",
      " [8/24] [None] attached joint:[leg_1_2] body:[Leg_module_1_2]\n",
      " [9/24] [None] attached joint:[leg_1_3] body:[Leg_module_1_3]\n",
      " [10/24] [None] attached joint:[leg_1_4] body:[Leg_module_1_4]\n",
      " [11/24] [None] attached joint:[leg_1_4bar] body:[Leg_module_1_4bar]\n",
      " [12/24] [None] attached joint:[leg_2_2] body:[Leg_module_2_2]\n",
      " [13/24] [None] attached joint:[leg_2_3] body:[Leg_module_2_3]\n",
      " [14/24] [None] attached joint:[leg_2_4] body:[Leg_module_2_4]\n",
      " [15/24] [None] attached joint:[leg_2_4bar] body:[Leg_module_2_4bar]\n",
      " [16/24] [None] attached joint:[leg_4_2] body:[Leg_module_4_2]\n",
      " [17/24] [None] attached joint:[leg_4_3] body:[Leg_module_4_3]\n",
      " [18/24] [None] attached joint:[leg_4_4] body:[Leg_module_4_4]\n",
      " [19/24] [None] attached joint:[leg_4_4bar] body:[Leg_module_4_4bar]\n",
      " [20/24] [None] attached joint:[leg_5_2] body:[Leg_module_5_2]\n",
      " [21/24] [None] attached joint:[leg_5_3] body:[Leg_module_5_3]\n",
      " [22/24] [None] attached joint:[leg_5_4] body:[Leg_module_5_4]\n",
      " [23/24] [None] attached joint:[leg_5_4bar] body:[Leg_module_5_4bar]\n",
      "\n",
      "Free joint information. n_free_joint:[1]\n",
      " [0/1] [free] body_name_attached:[torso]\n",
      "\n",
      "Revolute joint information. n_rev_joint:[18]\n",
      " [0/18] [camera_1] range:[0.000]~[0.000]\n",
      " [1/18] [camera_2] range:[-3.140]~[0.000]\n",
      " [2/18] [leg_1_2] range:[-0.900]~[0.900]\n",
      " [3/18] [leg_1_3] range:[-0.700]~[0.700]\n",
      " [4/18] [leg_1_4] range:[0.000]~[0.000]\n",
      " [5/18] [leg_1_4bar] range:[0.000]~[0.000]\n",
      " [6/18] [leg_2_2] range:[-0.900]~[0.900]\n",
      " [7/18] [leg_2_3] range:[-0.700]~[0.700]\n",
      " [8/18] [leg_2_4] range:[0.000]~[0.000]\n",
      " [9/18] [leg_2_4bar] range:[0.000]~[0.000]\n",
      " [10/18] [leg_4_2] range:[-0.900]~[0.900]\n",
      " [11/18] [leg_4_3] range:[-0.700]~[0.700]\n",
      " [12/18] [leg_4_4] range:[0.000]~[0.000]\n",
      " [13/18] [leg_4_4bar] range:[0.000]~[0.000]\n",
      " [14/18] [leg_5_2] range:[-0.900]~[0.900]\n",
      " [15/18] [leg_5_3] range:[-0.700]~[0.700]\n",
      " [16/18] [leg_5_4] range:[0.000]~[0.000]\n",
      " [17/18] [leg_5_4bar] range:[0.000]~[0.000]\n",
      "\n",
      "Prismatic joint information. n_pri_joint:[0]\n",
      "\n",
      "Control information. n_ctrl:[8]\n",
      " [0/8] [actuator_1_2] range:[-5.000]~[5.000] gear:[1.00] type:[JOINT]\n",
      " [1/8] [actuator_1_3] range:[-5.000]~[5.000] gear:[1.00] type:[JOINT]\n",
      " [2/8] [actuator_2_2] range:[-5.000]~[5.000] gear:[1.00] type:[JOINT]\n",
      " [3/8] [actuator_2_3] range:[-5.000]~[5.000] gear:[1.00] type:[JOINT]\n",
      " [4/8] [actuator_4_2] range:[-5.000]~[5.000] gear:[1.00] type:[JOINT]\n",
      " [5/8] [actuator_4_3] range:[-5.000]~[5.000] gear:[1.00] type:[JOINT]\n",
      " [6/8] [actuator_5_2] range:[-5.000]~[5.000] gear:[1.00] type:[JOINT]\n",
      " [7/8] [actuator_5_3] range:[-5.000]~[5.000] gear:[1.00] type:[JOINT]\n",
      "\n",
      "n_sensor:[8]\n",
      "sensor_names:['touchsensor_1_4', 'touchsensor_2_4', 'touchsensor_4_4', 'touchsensor_5_4', 'touchsensor_1_2', 'touchsensor_2_2', 'touchsensor_4_2', 'touchsensor_5_2']\n",
      "n_site:[8]\n",
      "site_names:['sensorsurf_1_2', 'sensorsurf_1_4', 'sensorsurf_2_2', 'sensorsurf_2_4', 'sensorsurf_4_2', 'sensorsurf_4_4', 'sensorsurf_5_2', 'sensorsurf_5_4']\n"
     ]
    }
   ],
   "source": [
    "xml_path = '../asset/snapbot/scene_snapbot.xml'\n",
    "\n",
    "\n",
    "\n",
    "env = MuJoCoParserClass(name='Snapbot',rel_xml_path=xml_path,verbose=True)"
   ]
  },
  {
   "cell_type": "markdown",
   "id": "27d3a086-2c63-4dbd-a3dd-46dbd5ee0985",
   "metadata": {},
   "source": [
    "#### PID controller"
   ]
  },
  {
   "cell_type": "code",
   "execution_count": 3,
   "id": "d9153f7f-d0ee-4547-94ad-c3c0cda9c904",
   "metadata": {},
   "outputs": [
    {
     "name": "stdout",
     "output_type": "stream",
     "text": [
      "Ready.\n"
     ]
    }
   ],
   "source": [
    "pid = PID_ControllerClass(\n",
    "    name = 'PID',dim = env.n_ctrl,\n",
    "    k_p = 150.0, k_i = 0.1, k_d = 5.0,\n",
    "    out_min = env.ctrl_ranges[:,0],\n",
    "    out_max = env.ctrl_ranges[:,1],\n",
    "    ANTIWU  = True)\n",
    "print (\"Ready.\")"
   ]
  },
  {
   "cell_type": "code",
   "execution_count": 4,
   "id": "27c2a32c-814f-4d2d-8826-3f0e069af3c4",
   "metadata": {},
   "outputs": [
    {
     "name": "stdout",
     "output_type": "stream",
     "text": [
      "Floor priority:[1]\n"
     ]
    }
   ],
   "source": [
    "# Modify floor friction priority\n",
    "env.model.geom('floor').priority = 1 # 0=>1\n",
    "print (\"Floor priority:%s\"%(env.model.geom('floor').priority))"
   ]
  },
  {
   "cell_type": "markdown",
   "id": "f30a2458-0a61-4410-ad71-8e5a16f846aa",
   "metadata": {},
   "source": [
    "#### Loop"
   ]
  },
  {
   "cell_type": "code",
   "execution_count": null,
   "id": "9cf9c4c2",
   "metadata": {},
   "outputs": [
    {
     "ename": "KeyError",
     "evalue": "\"Invalid name 'applicator'. Valid names: ['Camera_module_1', 'Camera_module_2', 'Leg_module_1_1', 'Leg_module_1_2', 'Leg_module_1_3', 'Leg_module_1_4', 'Leg_module_1_4bar', 'Leg_module_2_1', 'Leg_module_2_2', 'Leg_module_2_3', 'Leg_module_2_4', 'Leg_module_2_4bar', 'Leg_module_4_1', 'Leg_module_4_2', 'Leg_module_4_3', 'Leg_module_4_4', 'Leg_module_4_4bar', 'Leg_module_5_1', 'Leg_module_5_2', 'Leg_module_5_3', 'Leg_module_5_4', 'Leg_module_5_4bar', 'torso', 'world']\"",
     "output_type": "error",
     "traceback": [
      "\u001b[31m---------------------------------------------------------------------------\u001b[39m",
      "\u001b[31mKeyError\u001b[39m                                  Traceback (most recent call last)",
      "\u001b[36mCell\u001b[39m\u001b[36m \u001b[39m\u001b[32mIn[5]\u001b[39m\u001b[32m, line 23\u001b[39m\n\u001b[32m     21\u001b[39m env.store_state()  \u001b[38;5;66;03m# Save current state\u001b[39;00m\n\u001b[32m     22\u001b[39m env.forward(q=q_trgt, joint_idxs=env.ctrl_qpos_idxs)  \u001b[38;5;66;03m# Move to target\u001b[39;00m\n\u001b[32m---> \u001b[39m\u001b[32m23\u001b[39m p_target = \u001b[43menv\u001b[49m\u001b[43m.\u001b[49m\u001b[43mget_p_body\u001b[49m\u001b[43m(\u001b[49m\u001b[33;43m'\u001b[39;49m\u001b[33;43mapplicator\u001b[39;49m\u001b[33;43m'\u001b[39;49m\u001b[43m)\u001b[49m  \u001b[38;5;66;03m# Get end-effector position at target\u001b[39;00m\n\u001b[32m     24\u001b[39m env.restore_state()  \u001b[38;5;66;03m# Restore original state\u001b[39;00m\n\u001b[32m     26\u001b[39m \u001b[38;5;66;03m# Add target marker\u001b[39;00m\n",
      "\u001b[36mFile \u001b[39m\u001b[32m~/workspace/exercise-yet-another-mujoco-tutorial-v3/notebook/../package/mujoco_usage/mujoco_parser.py:783\u001b[39m, in \u001b[36mMuJoCoParserClass.get_p_body\u001b[39m\u001b[34m(self, body_name)\u001b[39m\n\u001b[32m    779\u001b[39m \u001b[38;5;28;01mdef\u001b[39;00m\u001b[38;5;250m \u001b[39m\u001b[34mget_p_body\u001b[39m(\u001b[38;5;28mself\u001b[39m,body_name):\n\u001b[32m    780\u001b[39m \u001b[38;5;250m    \u001b[39m\u001b[33;03m\"\"\"\u001b[39;00m\n\u001b[32m    781\u001b[39m \u001b[33;03m        Get body position\u001b[39;00m\n\u001b[32m    782\u001b[39m \u001b[33;03m    \"\"\"\u001b[39;00m\n\u001b[32m--> \u001b[39m\u001b[32m783\u001b[39m     \u001b[38;5;28;01mreturn\u001b[39;00m \u001b[38;5;28;43mself\u001b[39;49m\u001b[43m.\u001b[49m\u001b[43mdata\u001b[49m\u001b[43m.\u001b[49m\u001b[43mbody\u001b[49m\u001b[43m(\u001b[49m\u001b[43mbody_name\u001b[49m\u001b[43m)\u001b[49m.xpos.copy()\n",
      "\u001b[31mKeyError\u001b[39m: \"Invalid name 'applicator'. Valid names: ['Camera_module_1', 'Camera_module_2', 'Leg_module_1_1', 'Leg_module_1_2', 'Leg_module_1_3', 'Leg_module_1_4', 'Leg_module_1_4bar', 'Leg_module_2_1', 'Leg_module_2_2', 'Leg_module_2_3', 'Leg_module_2_4', 'Leg_module_2_4bar', 'Leg_module_4_1', 'Leg_module_4_2', 'Leg_module_4_3', 'Leg_module_4_4', 'Leg_module_4_4bar', 'Leg_module_5_1', 'Leg_module_5_2', 'Leg_module_5_3', 'Leg_module_5_4', 'Leg_module_5_4bar', 'torso', 'world']\""
     ]
    },
    {
     "ename": "",
     "evalue": "",
     "output_type": "error",
     "traceback": [
      "\u001b[1;31mThe Kernel crashed while executing code in the current cell or a previous cell. \n",
      "\u001b[1;31mPlease review the code in the cell(s) to identify a possible cause of the failure. \n",
      "\u001b[1;31mClick <a href='https://aka.ms/vscodeJupyterKernelCrash'>here</a> for more info. \n",
      "\u001b[1;31mView Jupyter <a href='command:jupyter.viewOutput'>log</a> for further details."
     ]
    }
   ],
   "source": [
    "# Buffer\n",
    "max_tick    = 5000\n",
    "t_list      = np.zeros(shape=(max_tick))\n",
    "x_trgt_list = np.zeros(shape=(max_tick,env.n_ctrl))\n",
    "qpos_list   = np.zeros(shape=(max_tick,env.n_ctrl))\n",
    "qvel_list   = np.zeros(shape=(max_tick,env.n_ctrl))\n",
    "torque_list = np.zeros(shape=(max_tick,env.n_ctrl))\n",
    "\n",
    "# Loop\n",
    "env.reset(step=True)\n",
    "env.init_viewer(distance=3.0,lookat=[0,0,0])\n",
    "pid.reset()\n",
    "\n",
    "while env.is_viewer_alive() and (env.tick < max_tick):\n",
    "    # Change PID target (reduced range to prevent flipping)\n",
    "    if (env.tick%500) == 0: \n",
    "        # Reduced range from ±50° to ±10° for minimal movement\n",
    "        q_trgt = np.radians(10*(-1.0+2.0*np.random.rand(env.n_ctrl)))\n",
    "        \n",
    "        # Mark the target position by temporarily setting robot to target pose\n",
    "        env.store_state()  # Save current state\n",
    "        env.forward(q=q_trgt, joint_idxs=env.ctrl_qpos_idxs)  # Move to target\n",
    "        p_target = env.get_p_body('applicator')  # Get end-effector position at target\n",
    "        env.restore_state()  # Restore original state\n",
    "        \n",
    "        # Add target marker\n",
    "        env.plot_sphere(p=p_target, r=0.05, rgba=(1,0,0,0.7), label='Target')\n",
    "\n",
    "    # PID controller\n",
    "    qpos = env.data.qpos[env.ctrl_qpos_idxs]\n",
    "    qvel = env.data.qpos[env.ctrl_qvel_idxs]\n",
    "    pid.update(x_trgt=q_trgt,t_curr=env.get_sim_time(),x_curr=qpos,VERBOSE=False)\n",
    "\n",
    "    # Update\n",
    "    torque = pid.out()\n",
    "    env.step(ctrl=torque) # update\n",
    "    contacts = np.zeros(env.n_sensor)\n",
    "    idxs = np.where(env.get_sensor_values(sensor_names=env.sensor_names)>0.2)[0]\n",
    "    contacts[idxs] = 1.0 # 0:non-contact, 1:contact\n",
    "\n",
    "    # Append\n",
    "    t_list[env.tick-1]        = env.get_sim_time()\n",
    "    x_trgt_list[env.tick-1,:] = pid.x_trgt\n",
    "    qpos_list[env.tick-1,:]   = qpos\n",
    "    qvel_list[env.tick-1,:]   = qvel\n",
    "    torque_list[env.tick-1,:] = torque\n",
    "    \n",
    "    # Render\n",
    "    if env.loop_every(tick_every=20):\n",
    "        env.plot_T()\n",
    "        # Show current end-effector position\n",
    "        p_current = env.get_p_body('applicator')\n",
    "        env.plot_sphere(p=p_current, r=0.03, rgba=(0,1,0,0.7), label='Current')\n",
    "        \n",
    "        for c_idx in np.where(contacts==1)[0]:\n",
    "            sensor_name = env.sensor_names[c_idx]\n",
    "            env.plot_sphere(p=env.get_p_sensor(sensor_name),r=0.02,rgba=(0,0,1,0.5))\n",
    "        env.plot_contact_info()\n",
    "        env.render()\n",
    "# Close viewer\n",
    "env.close_viewer()        \n",
    "print (\"Done.\")"
   ]
  },
  {
   "cell_type": "code",
   "execution_count": null,
   "id": "13de82d7-fc83-4b97-bc2c-0744d8bd0295",
   "metadata": {},
   "outputs": [],
   "source": [
    "# Buffer\n",
    "max_tick    = 50000\n",
    "t_list      = np.zeros(shape=(max_tick))\n",
    "x_trgt_list = np.zeros(shape=(max_tick,env.n_ctrl))\n",
    "qpos_list   = np.zeros(shape=(max_tick,env.n_ctrl))\n",
    "qvel_list   = np.zeros(shape=(max_tick,env.n_ctrl))\n",
    "torque_list = np.zeros(shape=(max_tick,env.n_ctrl))\n",
    "# Loop\n",
    "env.reset(step=True)\n",
    "env.init_viewer(distance=3.0,lookat=[0,0,0])\n",
    "pid.reset()\n",
    "while env.is_viewer_alive() and (env.tick < max_tick):\n",
    "    # Change PID target\n",
    "    if (env.tick%500) == 0: \n",
    "        q_trgt = np.radians(50*(-1.0+2.0*np.random.rand(env.n_ctrl)))\n",
    "\n",
    "    # PID controller\n",
    "    qpos = env.data.qpos[env.ctrl_qpos_idxs]\n",
    "    qvel = env.data.qpos[env.ctrl_qvel_idxs]\n",
    "    pid.update(x_trgt=q_trgt,t_curr=env.get_sim_time(),x_curr=qpos,VERBOSE=False)\n",
    "\n",
    "    # Update\n",
    "    torque = pid.out()\n",
    "    env.step(ctrl=torque) # update\n",
    "    contacts = np.zeros(env.n_sensor)\n",
    "    idxs = np.where(env.get_sensor_values(sensor_names=env.sensor_names)>0.2)[0]\n",
    "    contacts[idxs] = 1.0 # 0:non-contact, 1:contact\n",
    "\n",
    "    # Append\n",
    "    t_list[env.tick-1]        = env.get_sim_time()\n",
    "    x_trgt_list[env.tick-1,:] = pid.x_trgt\n",
    "    qpos_list[env.tick-1,:]   = qpos\n",
    "    qvel_list[env.tick-1,:]   = qvel\n",
    "    torque_list[env.tick-1,:] = torque\n",
    "    \n",
    "    # Render\n",
    "    if env.loop_every(tick_every=20):\n",
    "        env.plot_T()\n",
    "        for c_idx in np.where(contacts==1)[0]:\n",
    "            sensor_name = env.sensor_names[c_idx]\n",
    "            env.plot_sphere(p=env.get_p_sensor(sensor_name),r=0.02,rgba=(0,0,1,0.5))\n",
    "        env.plot_contact_info()\n",
    "        env.render()\n",
    "# Close viewer\n",
    "env.close_viewer()        \n",
    "print (\"Done.\")"
   ]
  },
  {
   "cell_type": "markdown",
   "id": "ea6130a3-4a53-4ab5-8df9-6900bb8c91c3",
   "metadata": {},
   "source": [
    "#### Plot tracking performance"
   ]
  },
  {
   "cell_type": "code",
   "execution_count": null,
   "id": "2cbd8558-febb-445c-a6f3-bf22b3eef743",
   "metadata": {},
   "outputs": [],
   "source": [
    "# Plot target and current joint position\n",
    "fig,axs = plt.subplots(nrows=2,ncols=4,sharex=False,sharey=False,figsize=(11,3))\n",
    "fig.subplots_adjust(hspace=0.4)\n",
    "fig.suptitle(\"Joint Position\", fontsize=10)\n",
    "for a_idx,ax in enumerate(axs.ravel()):\n",
    "    ax.plot(t_list[:env.tick],np.degrees(qpos_list[:env.tick,a_idx]),\n",
    "            '-',color='k',label='Current position')\n",
    "    ax.plot(t_list[:env.tick],np.degrees(x_trgt_list[:env.tick,a_idx]),\n",
    "            '--',color='b',label='Target position')\n",
    "    ax.set_ylim(bottom=-45,top=45)\n",
    "    ax.set_title('Joint [%d]'%(a_idx),fontsize=8)\n",
    "    if a_idx == 0: ax.legend(fontsize=8)\n",
    "plt.show()\n",
    "\n",
    "# Plot joint velocity\n",
    "fig,axs = plt.subplots(nrows=2,ncols=4,sharex=False,sharey=False,figsize=(11,3))\n",
    "fig.subplots_adjust(hspace=0.4)\n",
    "fig.suptitle(\"Joint Velocity\", fontsize=10)\n",
    "for a_idx,ax in enumerate(axs.ravel()):\n",
    "    ax.plot(t_list[:env.tick],np.degrees(qvel_list[:env.tick,a_idx]),\n",
    "            '-',color='k',label='Current velocity')\n",
    "    # ax.set_ylim(bottom=-45,top=45)\n",
    "    ax.set_title('Joint [%d]'%(a_idx),fontsize=8)\n",
    "    if a_idx == 0: ax.legend(fontsize=8)\n",
    "plt.show()\n",
    "\n",
    "# Plot control output\n",
    "fig,axs = plt.subplots(nrows=2,ncols=4,sharex=False,sharey=False,figsize=(11,3))\n",
    "fig.subplots_adjust(hspace=0.4)\n",
    "fig.suptitle(\"Joint Control\", fontsize=10)\n",
    "for a_idx,ax in enumerate(axs.ravel()):\n",
    "    ax.plot(t_list[:env.tick],torque_list[:env.tick,a_idx],color='r')\n",
    "    ax.set_ylim(bottom=env.ctrl_ranges[a_idx,0],top=env.ctrl_ranges[a_idx,1])\n",
    "    ax.set_title('Joint [%d]'%(a_idx),fontsize=8)\n",
    "plt.show()"
   ]
  },
  {
   "cell_type": "code",
   "execution_count": null,
   "id": "ff9e0c0b-d646-46a6-91a5-db2161ff2a3a",
   "metadata": {},
   "outputs": [],
   "source": []
  }
 ],
 "metadata": {
  "kernelspec": {
   "display_name": "Python 3",
   "language": "python",
   "name": "python3"
  },
  "language_info": {
   "codemirror_mode": {
    "name": "ipython",
    "version": 3
   },
   "file_extension": ".py",
   "mimetype": "text/x-python",
   "name": "python",
   "nbconvert_exporter": "python",
   "pygments_lexer": "ipython3",
   "version": "3.12.0"
  }
 },
 "nbformat": 4,
 "nbformat_minor": 5
}
