{
 "cells": [
  {
   "cell_type": "markdown",
   "id": "ddd5809e-9b50-43f5-960e-dae741e16168",
   "metadata": {},
   "source": [
    "### Introduction to `MuJoCo`\n",
    "```\n",
    "MuJoCo is a free and open source physics engine that aims to facilitate research and development in robotics, biomechanics, graphics and animation, and other areas where fast and accurate simulation is needed.\n",
    "```\n",
    "- `MuJoCo` stands for `Mu`lti-`Jo`int dynamics with `Co`ntact\n",
    "- It is a (rigid-body) simulator\n",
    "- In my personal oppinion, a (proper) simulator consists of\n",
    "    - Rigid-body simulation by solving an equation of motion (e.g., an articulated body algorithm)\n",
    "    - Contact solver (main cause of sim-to-real gap)\n",
    "    - Easy-to-use visualizer (`VERY IMPORTANT` for conducting research)\n",
    " \n",
    "##### Throughout the tutorial following topics will be covered:\n",
    "1. Introduction to `MuJoCo` and our lab-maintained mujoco_parser\n",
    "2. Forward Kinematics\n",
    "3. Forward Dynamics\n",
    "4. Inverse Kinematics\n",
    "5. Inverse Dynamics\n",
    "6. Planning using `RRT`\n",
    "7. Vision Reasoning using `GPT4o` and open-vocab detection\n",
    "8. Motion Retargeting of Unitree `G1`\n",
    "9. PID Control of `Snapbot`\n",
    "10. Reinforcement Learning using `Soft Actor-Critic` of `Snapbot`\n",
    "\n",
    "# Enjoy!"
   ]
  },
  {
   "cell_type": "code",
   "execution_count": 2,
   "id": "dd680840",
   "metadata": {},
   "outputs": [
    {
     "name": "stdout",
     "output_type": "stream",
     "text": [
      "Name: mujoco\n",
      "Version: 3.1.1\n",
      "Summary: MuJoCo Physics Simulator\n",
      "Home-page: https://github.com/google-deepmind/mujoco\n",
      "Author: \n",
      "Author-email: Google DeepMind <mujoco@deepmind.com>\n",
      "License: Apache License 2.0\n",
      "Location: /Users/sb/miniconda3/envs/3.11/lib/python3.11/site-packages\n",
      "Requires: absl-py, etils, glfw, numpy, pyopengl\n",
      "Required-by: mujoco-python-viewer\n"
     ]
    }
   ],
   "source": [
    "!pip show mujoco"
   ]
  },
  {
   "cell_type": "code",
   "execution_count": 3,
   "id": "cc48df2d-e251-4f75-971b-3b9e02e0a43f",
   "metadata": {},
   "outputs": [
    {
     "name": "stdout",
     "output_type": "stream",
     "text": [
      "MuJoCo:[3.1.1]\n"
     ]
    }
   ],
   "source": [
    "import sys,mujoco\n",
    "sys.path.append('../package/helper/')\n",
    "sys.path.append('../package/mujoco_usage/')\n",
    "from mujoco_parser import *\n",
    "from utility import *\n",
    "print (\"MuJoCo:[%s]\"%(mujoco.__version__))"
   ]
  },
  {
   "cell_type": "markdown",
   "id": "b90ddae9-19cb-46e9-b75a-f0c2485523c5",
   "metadata": {},
   "source": [
    "#### Parse environment"
   ]
  },
  {
   "cell_type": "code",
   "execution_count": null,
   "id": "90091ebb-9ca2-4535-8a65-981accdde612",
   "metadata": {
    "scrolled": true
   },
   "outputs": [],
   "source": [
    "xml_path = '../asset/object/floor_isaac_style.xml'\n",
    "env = MuJoCoParserClass(name='Floor',rel_xml_path=xml_path,verbose=True)"
   ]
  },
  {
   "cell_type": "markdown",
   "id": "a4fe5d37-2d6a-4bd3-9764-b18e9621b2c3",
   "metadata": {},
   "source": [
    "#### Render `floor`"
   ]
  },
  {
   "cell_type": "code",
   "execution_count": null,
   "id": "411e3ea6-3eb7-4d84-a529-253412128471",
   "metadata": {},
   "outputs": [],
   "source": [
    "env.reset(step=True)\n",
    "env.init_viewer()\n",
    "while env.is_viewer_alive():\n",
    "    env.step()\n",
    "    env.render()\n",
    "print (\"Done.\")"
   ]
  },
  {
   "cell_type": "markdown",
   "id": "5b55bb63-c69a-45c1-9e38-69faf336ec07",
   "metadata": {},
   "source": [
    "#### Render with other plot functions"
   ]
  },
  {
   "cell_type": "code",
   "execution_count": null,
   "id": "1378e940-dc42-4edd-a4a4-8ce4f9b93f9a",
   "metadata": {},
   "outputs": [],
   "source": [
    "import numpy as np\n",
    "\n",
    "env.reset(step=True)\n",
    "env.init_viewer()\n",
    "while env.is_viewer_alive():\n",
    "    env.step()\n",
    "    # Render\n",
    "    env.plot_T(print_xyz=True)\n",
    "    env.plot_time()\n",
    "    env.plot_ellipsoid(p=np.array([0,-2.0,1.0]),rx=0.1,ry=0.2,rz=0.3,rgba=(1,0,1,0.5))\n",
    "    env.plot_cylinder(p=np.array([0,-1.0,1.0]),r=0.1,h=0.2,rgba=(1,1,0,0.5))\n",
    "    env.plot_T(p=np.array([0,0,1.0]),axis_len=0.2,axis_width=0.01)\n",
    "    env.plot_arrow(p=np.array([0,1.0,1.0]),R=np.eye(3),r=0.1,h=0.5,rgba=(1,0,0,0.5))\n",
    "    env.plot_box(p=np.array([0,2.0,1.0]),R=np.eye(3),xlen=0.2,ylen=0.2,zlen=0.1,rgba=(0,1,0,0.5))\n",
    "    env.plot_capsule(p=np.array([0,3.0,1.0]),R=np.eye(3),r=0.1,h=0.1,rgba=(0,0,1,0.5))\n",
    "    env.render()\n",
    "print (\"Done.\")"
   ]
  },
  {
   "cell_type": "markdown",
   "id": "6d9c8b94-c134-4302-815e-72e547776225",
   "metadata": {},
   "source": [
    "#### Parse `Unitree G1`"
   ]
  },
  {
   "cell_type": "code",
   "execution_count": null,
   "id": "54dc2b90-c199-4062-b6ac-441e21235f26",
   "metadata": {
    "scrolled": true
   },
   "outputs": [],
   "source": [
    "xml_path = '../asset/unitree_g1/scene_g1.xml'\n",
    "env = MuJoCoParserClass(name='Unitree G1',rel_xml_path=xml_path,verbose=True)"
   ]
  },
  {
   "cell_type": "markdown",
   "id": "eca1733e-082e-414d-8d52-0c269a7803f7",
   "metadata": {},
   "source": [
    "#### Render `G1`"
   ]
  },
  {
   "cell_type": "code",
   "execution_count": null,
   "id": "e3603a95-0457-4eb4-8148-f5058aa9d28e",
   "metadata": {},
   "outputs": [],
   "source": [
    "env.reset(step=True)\n",
    "env.init_viewer()\n",
    "while env.is_viewer_alive():\n",
    "    env.step()\n",
    "    env.render()\n",
    "print (\"Done.\")"
   ]
  },
  {
   "cell_type": "markdown",
   "id": "d2452152-03ac-4827-baae-fbeaf275485a",
   "metadata": {},
   "source": [
    "#### Render `G1` with other information (contact, joint axis, etc..)"
   ]
  },
  {
   "cell_type": "code",
   "execution_count": null,
   "id": "3ef33cba-edde-45a0-a481-95a07b295ae4",
   "metadata": {},
   "outputs": [],
   "source": [
    "env.reset(step=True)\n",
    "env.init_viewer(transparent=True)\n",
    "while env.is_viewer_alive():\n",
    "    env.step()\n",
    "    if env.loop_every(tick_every=10):\n",
    "        env.plot_T()\n",
    "        env.plot_time() # time\n",
    "        env.plot_contact_info() # contact information\n",
    "        env.plot_joint_axis(axis_len=0.025,axis_r=0.005) # revolute joints\n",
    "        env.plot_links_between_bodies(rgba=(0,0,0,1),r=0.001) # link information\n",
    "        env.render()\n",
    "print (\"Done.\")"
   ]
  },
  {
   "cell_type": "markdown",
   "id": "44182abd-3105-4cc9-88ab-2428c885b0d2",
   "metadata": {},
   "source": [
    "#### Parse `RB-Y1`"
   ]
  },
  {
   "cell_type": "code",
   "execution_count": 4,
   "id": "a2753cfd-5020-4e95-8d5a-c41195f523ae",
   "metadata": {
    "scrolled": true
   },
   "outputs": [
    {
     "name": "stdout",
     "output_type": "stream",
     "text": [
      "name:[RB-Y1] dt:[0.005] HZ:[200]\n",
      "n_qpos:[33] n_qvel:[32] n_qacc:[32] n_ctrl:[24]\n",
      "\n",
      "n_body:[28]\n",
      " [0/28] [world] mass:[0.00]kg\n",
      " [1/28] [mobile_base] mass:[130.00]kg\n",
      " [2/28] [link1] mass:[30.00]kg\n",
      " [3/28] [link2] mass:[20.00]kg\n",
      " [4/28] [link3] mass:[3.00]kg\n",
      " [5/28] [link4] mass:[1.00]kg\n",
      " [6/28] [link5] mass:[3.00]kg\n",
      " [7/28] [link6] mass:[5.00]kg\n",
      " [8/28] [left_arm_1] mass:[1.00]kg\n",
      " [9/28] [left_arm_2] mass:[1.00]kg\n",
      " [10/28] [left_arm_3] mass:[1.00]kg\n",
      " [11/28] [left_arm_4] mass:[1.00]kg\n",
      " [12/28] [left_arm_5] mass:[0.50]kg\n",
      " [13/28] [left_arm_6] mass:[0.50]kg\n",
      " [14/28] [left_arm_7] mass:[0.10]kg\n",
      " [15/28] [left_arm_f1] mass:[0.01]kg\n",
      " [16/28] [left_arm_f2] mass:[0.01]kg\n",
      " [17/28] [right_arm_1] mass:[1.00]kg\n",
      " [18/28] [right_arm_2] mass:[1.00]kg\n",
      " [19/28] [right_arm_3] mass:[1.00]kg\n",
      " [20/28] [right_arm_4] mass:[1.00]kg\n",
      " [21/28] [right_arm_5] mass:[0.50]kg\n",
      " [22/28] [right_arm_6] mass:[0.50]kg\n",
      " [23/28] [right_arm_7] mass:[0.10]kg\n",
      " [24/28] [right_arm_f1] mass:[0.01]kg\n",
      " [25/28] [right_arm_f2] mass:[0.01]kg\n",
      " [26/28] [right_wheel] mass:[1.50]kg\n",
      " [27/28] [left_wheel] mass:[1.50]kg\n",
      "body_total_mass:[205.24]kg\n",
      "\n",
      "n_geom:[377]\n",
      "geom_names:['floor', None, None, None, None, None, None, None, None, None, None, None, None, None, None, None, None, None, None, None, None, None, None, None, None, None, None, None, None, None, None, None, None, None, None, None, None, None, None, None, None, None, None, None, None, None, None, None, None, None, None, None, None, None, None, None, None, None, None, None, None, None, None, None, None, None, None, None, None, None, None, None, None, None, None, None, None, None, None, None, None, None, None, None, None, None, None, None, None, None, None, None, None, None, None, None, None, None, None, None, None, None, None, None, None, None, None, None, None, None, None, None, None, None, None, None, None, None, None, None, None, None, None, None, None, None, None, None, None, None, None, None, None, None, None, None, None, None, None, None, None, None, None, None, None, None, None, None, None, None, None, None, None, None, None, None, None, None, None, None, None, None, None, None, None, None, None, None, None, None, None, None, None, None, None, None, None, None, None, None, None, None, None, None, None, None, None, None, None, None, None, None, None, None, None, None, None, None, None, None, None, None, None, None, None, None, None, None, None, None, None, None, None, None, None, None, None, None, None, None, None, None, None, None, None, None, None, None, None, None, None, None, None, None, None, None, None, None, None, None, None, None, None, None, None, None, None, None, None, None, None, None, None, None, None, None, None, None, None, None, None, None, None, None, None, None, None, None, None, None, None, None, None, None, None, None, None, None, None, None, None, None, None, None, None, None, None, None, None, None, None, None, None, None, None, None, None, None, None, None, None, None, None, None, None, None, None, None, None, None, None, None, None, None, None, None, None, None, None, None, None, None, None, None, None, None, None, None, None, None, None, None, None, None, None, None, None, None, None, None, None, None, None, None, None, None, None, None, None, None, None, None, None, None, None, None, None, None, None, None, None, None, None, None, None, None, None, None, None, None, None, None, None, None, None, None, None]\n",
      "\n",
      "n_joint:[27]\n",
      " [0/27] [base] axis:[0. 0. 1.]\n",
      " [1/27] [link1_joint] axis:[0. 1. 0.]\n",
      " [2/27] [link2_joint] axis:[1. 0. 0.]\n",
      " [3/27] [link3_joint] axis:[1. 0. 0.]\n",
      " [4/27] [link4_joint] axis:[1. 0. 0.]\n",
      " [5/27] [link5_joint] axis:[0. 1. 0.]\n",
      " [6/27] [link6_joint] axis:[0. 0. 1.]\n",
      " [7/27] [left_arm_1_joint] axis:[0.94420018 0.         0.32937216]\n",
      " [8/27] [left_arm_2_joint] axis:[ 0. -1.  0.]\n",
      " [9/27] [left_arm_3_joint] axis:[0. 0. 1.]\n",
      " [10/27] [left_arm_4_joint] axis:[1. 0. 0.]\n",
      " [11/27] [left_arm_5_joint] axis:[ 0.          0.94318804 -0.33225942]\n",
      " [12/27] [left_arm_6_joint] axis:[1. 0. 0.]\n",
      " [13/27] [left_arm_7_joint] axis:[0.         0.64897756 0.76080755]\n",
      " [14/27] [left_arm_f1_joint] axis:[1. 0. 0.]\n",
      " [15/27] [left_arm_f2_joint] axis:[1. 0. 0.]\n",
      " [16/27] [right_arm_1_joint] axis:[ 0.9392023   0.         -0.34336428]\n",
      " [17/27] [right_arm_2_joint] axis:[ 0. -1.  0.]\n",
      " [18/27] [right_arm_3_joint] axis:[0. 0. 1.]\n",
      " [19/27] [right_arm_4_joint] axis:[1. 0. 0.]\n",
      " [20/27] [right_arm_5_joint] axis:[ 0.          0.94318804 -0.33225942]\n",
      " [21/27] [right_arm_6_joint] axis:[1. 0. 0.]\n",
      " [22/27] [right_arm_7_joint] axis:[0.         0.64897756 0.76080755]\n",
      " [23/27] [right_arm_f1_joint] axis:[-1.  0.  0.]\n",
      " [24/27] [right_arm_f2_joint] axis:[-1.  0.  0.]\n",
      " [25/27] [right_wheel_joint] axis:[1. 0. 0.]\n",
      " [26/27] [left_wheel_joint] axis:[1. 0. 0.]\n",
      "\n",
      "n_dof:[32] (=number of rows of Jacobian)\n",
      " [0/32] [None] attached joint:[base] body:[mobile_base]\n",
      " [1/32] [None] attached joint:[base] body:[mobile_base]\n",
      " [2/32] [None] attached joint:[base] body:[mobile_base]\n",
      " [3/32] [None] attached joint:[base] body:[mobile_base]\n",
      " [4/32] [None] attached joint:[base] body:[mobile_base]\n",
      " [5/32] [None] attached joint:[base] body:[mobile_base]\n",
      " [6/32] [None] attached joint:[link1_joint] body:[link1]\n",
      " [7/32] [None] attached joint:[link2_joint] body:[link2]\n",
      " [8/32] [None] attached joint:[link3_joint] body:[link3]\n",
      " [9/32] [None] attached joint:[link4_joint] body:[link4]\n",
      " [10/32] [None] attached joint:[link5_joint] body:[link5]\n",
      " [11/32] [None] attached joint:[link6_joint] body:[link6]\n",
      " [12/32] [None] attached joint:[left_arm_1_joint] body:[left_arm_1]\n",
      " [13/32] [None] attached joint:[left_arm_2_joint] body:[left_arm_2]\n",
      " [14/32] [None] attached joint:[left_arm_3_joint] body:[left_arm_3]\n",
      " [15/32] [None] attached joint:[left_arm_4_joint] body:[left_arm_4]\n",
      " [16/32] [None] attached joint:[left_arm_5_joint] body:[left_arm_5]\n",
      " [17/32] [None] attached joint:[left_arm_6_joint] body:[left_arm_6]\n",
      " [18/32] [None] attached joint:[left_arm_7_joint] body:[left_arm_7]\n",
      " [19/32] [None] attached joint:[left_arm_f1_joint] body:[left_arm_f1]\n",
      " [20/32] [None] attached joint:[left_arm_f2_joint] body:[left_arm_f2]\n",
      " [21/32] [None] attached joint:[right_arm_1_joint] body:[right_arm_1]\n",
      " [22/32] [None] attached joint:[right_arm_2_joint] body:[right_arm_2]\n",
      " [23/32] [None] attached joint:[right_arm_3_joint] body:[right_arm_3]\n",
      " [24/32] [None] attached joint:[right_arm_4_joint] body:[right_arm_4]\n",
      " [25/32] [None] attached joint:[right_arm_5_joint] body:[right_arm_5]\n",
      " [26/32] [None] attached joint:[right_arm_6_joint] body:[right_arm_6]\n",
      " [27/32] [None] attached joint:[right_arm_7_joint] body:[right_arm_7]\n",
      " [28/32] [None] attached joint:[right_arm_f1_joint] body:[right_arm_f1]\n",
      " [29/32] [None] attached joint:[right_arm_f2_joint] body:[right_arm_f2]\n",
      " [30/32] [None] attached joint:[right_wheel_joint] body:[right_wheel]\n",
      " [31/32] [None] attached joint:[left_wheel_joint] body:[left_wheel]\n",
      "\n",
      "Free joint information. n_free_joint:[1]\n",
      " [0/1] [base] body_name_attached:[mobile_base]\n",
      "\n",
      "Revolute joint information. n_rev_joint:[22]\n",
      " [0/22] [link1_joint] range:[0.000]~[0.000]\n",
      " [1/22] [link2_joint] range:[0.000]~[0.000]\n",
      " [2/22] [link3_joint] range:[0.000]~[0.000]\n",
      " [3/22] [link4_joint] range:[0.000]~[0.000]\n",
      " [4/22] [link5_joint] range:[0.000]~[0.000]\n",
      " [5/22] [link6_joint] range:[0.000]~[0.000]\n",
      " [6/22] [left_arm_1_joint] range:[-3.140]~[3.140]\n",
      " [7/22] [left_arm_2_joint] range:[-3.140]~[3.140]\n",
      " [8/22] [left_arm_3_joint] range:[-3.140]~[3.140]\n",
      " [9/22] [left_arm_4_joint] range:[0.000]~[0.000]\n",
      " [10/22] [left_arm_5_joint] range:[-3.140]~[3.140]\n",
      " [11/22] [left_arm_6_joint] range:[-3.140]~[3.140]\n",
      " [12/22] [left_arm_7_joint] range:[-3.140]~[3.140]\n",
      " [13/22] [right_arm_1_joint] range:[0.000]~[0.000]\n",
      " [14/22] [right_arm_2_joint] range:[0.000]~[0.000]\n",
      " [15/22] [right_arm_3_joint] range:[-3.140]~[3.140]\n",
      " [16/22] [right_arm_4_joint] range:[-3.140]~[3.140]\n",
      " [17/22] [right_arm_5_joint] range:[-3.140]~[3.140]\n",
      " [18/22] [right_arm_6_joint] range:[-3.140]~[3.140]\n",
      " [19/22] [right_arm_7_joint] range:[-3.140]~[3.140]\n",
      " [20/22] [right_wheel_joint] range:[0.000]~[0.000]\n",
      " [21/22] [left_wheel_joint] range:[0.000]~[0.000]\n",
      "\n",
      "Prismatic joint information. n_pri_joint:[4]\n",
      " [0/4] [left_arm_f1_joint] range:[0.000]~[0.050]\n",
      " [1/4] [left_arm_f2_joint] range:[-0.050]~[0.000]\n",
      " [2/4] [right_arm_f1_joint] range:[0.000]~[0.050]\n",
      " [3/4] [right_arm_f2_joint] range:[-0.050]~[0.000]\n",
      "\n",
      "Control information. n_ctrl:[24]\n",
      " [0/24] [left_wheel_act] range:[-50.000]~[50.000] gear:[1.00] type:[JOINT]\n",
      " [1/24] [right_wheel_act] range:[-50.000]~[50.000] gear:[1.00] type:[JOINT]\n",
      " [2/24] [link1_act] range:[-0.350]~[0.350] gear:[1.00] type:[JOINT]\n",
      " [3/24] [link2_act] range:[-0.200]~[1.120] gear:[1.00] type:[JOINT]\n",
      " [4/24] [link3_act] range:[-2.000]~[1.130] gear:[1.00] type:[JOINT]\n",
      " [5/24] [link4_act] range:[-1.000]~[2.000] gear:[1.00] type:[JOINT]\n",
      " [6/24] [link5_act] range:[-1.300]~[1.300] gear:[1.00] type:[JOINT]\n",
      " [7/24] [link6_act] range:[-3.140]~[3.140] gear:[1.00] type:[JOINT]\n",
      " [8/24] [left_arm_1_act] range:[-3.140]~[3.140] gear:[1.00] type:[JOINT]\n",
      " [9/24] [left_arm_2_act] range:[-3.140]~[3.140] gear:[1.00] type:[JOINT]\n",
      " [10/24] [left_arm_3_act] range:[-3.140]~[3.140] gear:[1.00] type:[JOINT]\n",
      " [11/24] [left_arm_4_act] range:[-3.140]~[3.140] gear:[1.00] type:[JOINT]\n",
      " [12/24] [left_arm_5_act] range:[-3.140]~[3.140] gear:[1.00] type:[JOINT]\n",
      " [13/24] [left_arm_6_act] range:[-3.140]~[3.140] gear:[1.00] type:[JOINT]\n",
      " [14/24] [left_arm_7_act] range:[-3.140]~[3.140] gear:[1.00] type:[JOINT]\n",
      " [15/24] [left_arm_f_act] range:[-1.000]~[1.000] gear:[1.00] type:[JOINT]\n",
      " [16/24] [right_arm_1_act] range:[-3.140]~[3.140] gear:[1.00] type:[JOINT]\n",
      " [17/24] [right_arm_2_act] range:[-3.140]~[3.140] gear:[1.00] type:[JOINT]\n",
      " [18/24] [right_arm_3_act] range:[-3.140]~[3.140] gear:[1.00] type:[JOINT]\n",
      " [19/24] [right_arm_4_act] range:[-3.140]~[3.140] gear:[1.00] type:[JOINT]\n",
      " [20/24] [right_arm_5_act] range:[-3.140]~[3.140] gear:[1.00] type:[JOINT]\n",
      " [21/24] [right_arm_6_act] range:[-3.140]~[3.140] gear:[1.00] type:[JOINT]\n",
      " [22/24] [right_arm_7_act] range:[-3.140]~[3.140] gear:[1.00] type:[JOINT]\n",
      " [23/24] [right_arm_f_act] range:[-1.000]~[1.000] gear:[1.00] type:[JOINT]\n",
      "\n",
      "n_sensor:[0]\n",
      "sensor_names:[]\n",
      "n_site:[2]\n",
      "site_names:['left_tcp', 'right_tcp']\n"
     ]
    }
   ],
   "source": [
    "xml_path = '../asset/rby/scene_rby.xml'\n",
    "env = MuJoCoParserClass(name='RB-Y1',rel_xml_path=xml_path,verbose=True)"
   ]
  },
  {
   "cell_type": "markdown",
   "id": "82daf6e1-5065-4f30-a08c-66d085db4dfe",
   "metadata": {},
   "source": [
    "#### Render `RB-Y1`"
   ]
  },
  {
   "cell_type": "code",
   "execution_count": 5,
   "id": "7d7c2879-4438-4c33-b192-7a0d371c244f",
   "metadata": {},
   "outputs": [
    {
     "name": "stdout",
     "output_type": "stream",
     "text": [
      "Done.\n"
     ]
    }
   ],
   "source": [
    "env.reset(step=True)\n",
    "env.init_viewer(transparent=True)\n",
    "while env.is_viewer_alive():\n",
    "    env.step()\n",
    "    if env.loop_every(tick_every=10):\n",
    "        env.plot_T()\n",
    "        env.plot_time() # time\n",
    "        env.plot_contact_info() # contact information\n",
    "        env.render()\n",
    "print (\"Done.\")"
   ]
  },
  {
   "cell_type": "markdown",
   "id": "6a835845-f66a-4bb1-bd23-490842749957",
   "metadata": {},
   "source": [
    "#### Render `Google Scanned Objects`"
   ]
  },
  {
   "cell_type": "code",
   "execution_count": 6,
   "id": "ccea3aac-12e9-4420-8a04-37b43bd75f17",
   "metadata": {
    "scrolled": true
   },
   "outputs": [
    {
     "name": "stdout",
     "output_type": "stream",
     "text": [
      "name:[Scanned Objects] dt:[0.002] HZ:[500]\n",
      "n_qpos:[49] n_qvel:[42] n_qacc:[42] n_ctrl:[0]\n",
      "\n",
      "n_body:[9]\n",
      " [0/9] [world] mass:[0.00]kg\n",
      " [1/9] [base_table] mass:[1.00]kg\n",
      " [2/9] [model_3D_Dollhouse_Sink] mass:[1.20]kg\n",
      " [3/9] [model_3D_Dollhouse_Sofa] mass:[1.81]kg\n",
      " [4/9] [model_3D_Dollhouse_Swing] mass:[0.53]kg\n",
      " [5/9] [model_3D_Dollhouse_TablePurple] mass:[0.21]kg\n",
      " [6/9] [Android_Figure_Chrome] mass:[0.22]kg\n",
      " [7/9] [Android_Figure_Orange] mass:[0.22]kg\n",
      " [8/9] [Android_Figure_Panda] mass:[0.22]kg\n",
      "body_total_mass:[5.42]kg\n",
      "\n",
      "n_geom:[233]\n",
      "geom_names:['floor', 'base_table', None, None, None, None, None, None, None, None, None, None, None, None, None, None, None, None, None, None, None, None, None, None, None, None, None, None, None, None, None, None, None, None, None, None, None, None, None, None, None, None, None, None, None, None, None, None, None, None, None, None, None, None, None, None, None, None, None, None, None, None, None, None, None, None, None, None, None, None, None, None, None, None, None, None, None, None, None, None, None, None, None, None, None, None, None, None, None, None, None, None, None, None, None, None, None, None, None, None, None, None, None, None, None, None, None, None, None, None, None, None, None, None, None, None, None, None, None, None, None, None, None, None, None, None, None, None, None, None, None, None, None, None, None, None, None, None, None, None, None, None, None, None, None, None, None, None, None, None, None, None, None, None, None, None, None, None, None, None, None, None, None, None, None, None, None, None, None, None, None, None, None, None, None, None, None, None, None, None, None, None, None, None, None, None, None, None, None, None, None, None, None, None, None, None, None, None, None, None, None, None, None, None, None, None, None, None, None, None, None, None, None, None, None, None, None, None, None, None, None, None, None, None, None, None, None, None, None, None, None, None, None]\n",
      "\n",
      "n_joint:[7]\n",
      " [0/7] [None] axis:[0. 0. 1.]\n",
      " [1/7] [None] axis:[0. 0. 1.]\n",
      " [2/7] [None] axis:[0. 0. 1.]\n",
      " [3/7] [None] axis:[0. 0. 1.]\n",
      " [4/7] [None] axis:[0. 0. 1.]\n",
      " [5/7] [None] axis:[0. 0. 1.]\n",
      " [6/7] [None] axis:[0. 0. 1.]\n",
      "\n",
      "n_dof:[42] (=number of rows of Jacobian)\n",
      " [0/42] [None] attached joint:[None] body:[model_3D_Dollhouse_Sink]\n",
      " [1/42] [None] attached joint:[None] body:[model_3D_Dollhouse_Sink]\n",
      " [2/42] [None] attached joint:[None] body:[model_3D_Dollhouse_Sink]\n",
      " [3/42] [None] attached joint:[None] body:[model_3D_Dollhouse_Sink]\n",
      " [4/42] [None] attached joint:[None] body:[model_3D_Dollhouse_Sink]\n",
      " [5/42] [None] attached joint:[None] body:[model_3D_Dollhouse_Sink]\n",
      " [6/42] [None] attached joint:[None] body:[model_3D_Dollhouse_Sofa]\n",
      " [7/42] [None] attached joint:[None] body:[model_3D_Dollhouse_Sofa]\n",
      " [8/42] [None] attached joint:[None] body:[model_3D_Dollhouse_Sofa]\n",
      " [9/42] [None] attached joint:[None] body:[model_3D_Dollhouse_Sofa]\n",
      " [10/42] [None] attached joint:[None] body:[model_3D_Dollhouse_Sofa]\n",
      " [11/42] [None] attached joint:[None] body:[model_3D_Dollhouse_Sofa]\n",
      " [12/42] [None] attached joint:[None] body:[model_3D_Dollhouse_Swing]\n",
      " [13/42] [None] attached joint:[None] body:[model_3D_Dollhouse_Swing]\n",
      " [14/42] [None] attached joint:[None] body:[model_3D_Dollhouse_Swing]\n",
      " [15/42] [None] attached joint:[None] body:[model_3D_Dollhouse_Swing]\n",
      " [16/42] [None] attached joint:[None] body:[model_3D_Dollhouse_Swing]\n",
      " [17/42] [None] attached joint:[None] body:[model_3D_Dollhouse_Swing]\n",
      " [18/42] [None] attached joint:[None] body:[model_3D_Dollhouse_TablePurple]\n",
      " [19/42] [None] attached joint:[None] body:[model_3D_Dollhouse_TablePurple]\n",
      " [20/42] [None] attached joint:[None] body:[model_3D_Dollhouse_TablePurple]\n",
      " [21/42] [None] attached joint:[None] body:[model_3D_Dollhouse_TablePurple]\n",
      " [22/42] [None] attached joint:[None] body:[model_3D_Dollhouse_TablePurple]\n",
      " [23/42] [None] attached joint:[None] body:[model_3D_Dollhouse_TablePurple]\n",
      " [24/42] [None] attached joint:[None] body:[Android_Figure_Chrome]\n",
      " [25/42] [None] attached joint:[None] body:[Android_Figure_Chrome]\n",
      " [26/42] [None] attached joint:[None] body:[Android_Figure_Chrome]\n",
      " [27/42] [None] attached joint:[None] body:[Android_Figure_Chrome]\n",
      " [28/42] [None] attached joint:[None] body:[Android_Figure_Chrome]\n",
      " [29/42] [None] attached joint:[None] body:[Android_Figure_Chrome]\n",
      " [30/42] [None] attached joint:[None] body:[Android_Figure_Orange]\n",
      " [31/42] [None] attached joint:[None] body:[Android_Figure_Orange]\n",
      " [32/42] [None] attached joint:[None] body:[Android_Figure_Orange]\n",
      " [33/42] [None] attached joint:[None] body:[Android_Figure_Orange]\n",
      " [34/42] [None] attached joint:[None] body:[Android_Figure_Orange]\n",
      " [35/42] [None] attached joint:[None] body:[Android_Figure_Orange]\n",
      " [36/42] [None] attached joint:[None] body:[Android_Figure_Panda]\n",
      " [37/42] [None] attached joint:[None] body:[Android_Figure_Panda]\n",
      " [38/42] [None] attached joint:[None] body:[Android_Figure_Panda]\n",
      " [39/42] [None] attached joint:[None] body:[Android_Figure_Panda]\n",
      " [40/42] [None] attached joint:[None] body:[Android_Figure_Panda]\n",
      " [41/42] [None] attached joint:[None] body:[Android_Figure_Panda]\n",
      "\n",
      "Free joint information. n_free_joint:[7]\n",
      " [0/7] [None] body_name_attached:[model_3D_Dollhouse_Sink]\n",
      " [1/7] [None] body_name_attached:[model_3D_Dollhouse_Sofa]\n",
      " [2/7] [None] body_name_attached:[model_3D_Dollhouse_Swing]\n",
      " [3/7] [None] body_name_attached:[model_3D_Dollhouse_TablePurple]\n",
      " [4/7] [None] body_name_attached:[Android_Figure_Chrome]\n",
      " [5/7] [None] body_name_attached:[Android_Figure_Orange]\n",
      " [6/7] [None] body_name_attached:[Android_Figure_Panda]\n",
      "\n",
      "Revolute joint information. n_rev_joint:[0]\n",
      "\n",
      "Prismatic joint information. n_pri_joint:[0]\n",
      "\n",
      "Control information. n_ctrl:[0]\n",
      "\n",
      "n_sensor:[0]\n",
      "sensor_names:[]\n",
      "n_site:[0]\n",
      "site_names:[]\n",
      "WARNING: Insufficient arena memory for the number of constraints generated. Increase arena memory allocation above 15M bytes. Time = 0.0000.\n",
      "\n"
     ]
    }
   ],
   "source": [
    "xml_path = '../asset/scanned_objects/scene_objects.xml'\n",
    "env = MuJoCoParserClass(name='Scanned Objects',rel_xml_path=xml_path,verbose=True)"
   ]
  },
  {
   "cell_type": "code",
   "execution_count": 8,
   "id": "e0791c8d-81f5-42f4-b4cc-6f6567504b06",
   "metadata": {},
   "outputs": [
    {
     "name": "stdout",
     "output_type": "stream",
     "text": [
      "WARNING: Insufficient arena memory for the number of constraints generated. Increase arena memory allocation above 15M bytes. Time = 0.0000.\n",
      "\n",
      "Done.\n"
     ]
    },
    {
     "ename": "",
     "evalue": "",
     "output_type": "error",
     "traceback": [
      "\u001b[1;31m현재 셀 또는 이전 셀에서 코드를 실행하는 동안 Kernel이 충돌했습니다. \n",
      "\u001b[1;31m셀의 코드를 검토하여 가능한 오류 원인을 식별하세요. \n",
      "\u001b[1;31m자세한 내용을 보려면 <a href='https://aka.ms/vscodeJupyterKernelCrash'>여기</a>를 클릭하세요. \n",
      "\u001b[1;31m자세한 내용은 Jupyter <a href='command:jupyter.viewOutput'>로그</a>를 참조하세요."
     ]
    }
   ],
   "source": [
    "env.reset(step=True)\n",
    "# Set object positions\n",
    "obj_names = env.get_body_names(excluding='world') # object names\n",
    "n_obj = len(obj_names)\n",
    "obj_xyzs = sample_xyzs(\n",
    "    n_obj,\n",
    "    x_range   = [-0.45,+0.45],\n",
    "    y_range   = [-0.45,+0.45],\n",
    "    z_range   = [0.51,0.51],\n",
    "    min_dist  = 0.2,\n",
    "    xy_margin = 0.0\n",
    ")\n",
    "for obj_idx in range(n_obj):\n",
    "    env.set_p_base_body(body_name=obj_names[obj_idx],p=obj_xyzs[obj_idx,:])\n",
    "    env.set_R_base_body(body_name=obj_names[obj_idx],R=np.eye(3,3))\n",
    "# Loop\n",
    "env.init_viewer(transparent=False)\n",
    "while env.is_viewer_alive():\n",
    "    env.step()\n",
    "    if env.loop_every(tick_every=10):\n",
    "        env.plot_T()\n",
    "        env.plot_time() # time\n",
    "        env.plot_contact_info() # contact information\n",
    "        env.render()\n",
    "print (\"Done.\")"
   ]
  },
  {
   "cell_type": "code",
   "execution_count": null,
   "id": "1d023ea7",
   "metadata": {},
   "outputs": [],
   "source": []
  }
 ],
 "metadata": {
  "kernelspec": {
   "display_name": "3.11",
   "language": "python",
   "name": "python3"
  },
  "language_info": {
   "codemirror_mode": {
    "name": "ipython",
    "version": 3
   },
   "file_extension": ".py",
   "mimetype": "text/x-python",
   "name": "python",
   "nbconvert_exporter": "python",
   "pygments_lexer": "ipython3",
   "version": "3.11.9"
  }
 },
 "nbformat": 4,
 "nbformat_minor": 5
}
